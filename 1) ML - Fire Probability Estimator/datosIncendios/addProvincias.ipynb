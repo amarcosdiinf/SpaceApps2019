{
 "cells": [
  {
   "cell_type": "code",
   "execution_count": 160,
   "metadata": {},
   "outputs": [],
   "source": [
    "import csv\n",
    "import pandas as pd\n",
    "import os\n",
    "import sys\n",
    "import http.client\n",
    "import ssl\n",
    "import json\n",
    "import datetime\n",
    "import requests\n",
    "import time\n",
    "from datetime import timedelta, date"
   ]
  },
  {
   "cell_type": "code",
   "execution_count": 166,
   "metadata": {},
   "outputs": [],
   "source": [
    "def getData(latitud, longitud):\n",
    "    url = \"https://us1.locationiq.com/v1/reverse.php\"\n",
    "\n",
    "    data = {\n",
    "        'key': 'b3483c524735f8',\n",
    "        'lat': str(latitud),\n",
    "        'lon': str(longitud),\n",
    "        'format': 'json'\n",
    "    }\n",
    "\n",
    "    response = requests.get(url, params=data)\n",
    "    try:\n",
    "        provincia = response.json()['address']['county']\n",
    "        \n",
    "    except:\n",
    "        provincia = 'NaN'\n",
    "    \n",
    "    if provincia=='NaN':\n",
    "        try:\n",
    "            provincia = response.json()['address']['state']\n",
    "            if provincia == 'Biscay':\n",
    "                provincia = response.json()['address']['city']\n",
    "        except:\n",
    "            provincia = 'NaN'\n",
    "    \n",
    "    time.sleep(2)\n",
    "    return provincia"
   ]
  },
  {
   "cell_type": "code",
   "execution_count": 162,
   "metadata": {},
   "outputs": [
    {
     "data": {
      "text/html": [
       "<div>\n",
       "<style scoped>\n",
       "    .dataframe tbody tr th:only-of-type {\n",
       "        vertical-align: middle;\n",
       "    }\n",
       "\n",
       "    .dataframe tbody tr th {\n",
       "        vertical-align: top;\n",
       "    }\n",
       "\n",
       "    .dataframe thead th {\n",
       "        text-align: right;\n",
       "    }\n",
       "</style>\n",
       "<table border=\"1\" class=\"dataframe\">\n",
       "  <thead>\n",
       "    <tr style=\"text-align: right;\">\n",
       "      <th></th>\n",
       "      <th>acq_date</th>\n",
       "      <th>latitude</th>\n",
       "      <th>longitude</th>\n",
       "    </tr>\n",
       "  </thead>\n",
       "  <tbody>\n",
       "    <tr>\n",
       "      <th>0</th>\n",
       "      <td>2015-01-01</td>\n",
       "      <td>43.52473</td>\n",
       "      <td>-5.73595</td>\n",
       "    </tr>\n",
       "    <tr>\n",
       "      <th>1</th>\n",
       "      <td>2015-01-01</td>\n",
       "      <td>43.55324</td>\n",
       "      <td>-5.90172</td>\n",
       "    </tr>\n",
       "    <tr>\n",
       "      <th>2</th>\n",
       "      <td>2015-01-01</td>\n",
       "      <td>43.55339</td>\n",
       "      <td>-5.90822</td>\n",
       "    </tr>\n",
       "    <tr>\n",
       "      <th>3</th>\n",
       "      <td>2015-01-01</td>\n",
       "      <td>43.55778</td>\n",
       "      <td>-5.90322</td>\n",
       "    </tr>\n",
       "    <tr>\n",
       "      <th>4</th>\n",
       "      <td>2015-01-01</td>\n",
       "      <td>42.16393</td>\n",
       "      <td>-6.92449</td>\n",
       "    </tr>\n",
       "    <tr>\n",
       "      <th>5</th>\n",
       "      <td>2015-01-01</td>\n",
       "      <td>42.16404</td>\n",
       "      <td>-6.93157</td>\n",
       "    </tr>\n",
       "    <tr>\n",
       "      <th>6</th>\n",
       "      <td>2015-01-01</td>\n",
       "      <td>43.27151</td>\n",
       "      <td>-2.95205</td>\n",
       "    </tr>\n",
       "    <tr>\n",
       "      <th>7</th>\n",
       "      <td>2015-01-01</td>\n",
       "      <td>43.40971</td>\n",
       "      <td>-3.83971</td>\n",
       "    </tr>\n",
       "    <tr>\n",
       "      <th>8</th>\n",
       "      <td>2015-01-01</td>\n",
       "      <td>43.52459</td>\n",
       "      <td>-5.72987</td>\n",
       "    </tr>\n",
       "    <tr>\n",
       "      <th>9</th>\n",
       "      <td>2015-01-01</td>\n",
       "      <td>40.37864</td>\n",
       "      <td>-4.21053</td>\n",
       "    </tr>\n",
       "  </tbody>\n",
       "</table>\n",
       "</div>"
      ],
      "text/plain": [
       "     acq_date  latitude  longitude\n",
       "0  2015-01-01  43.52473   -5.73595\n",
       "1  2015-01-01  43.55324   -5.90172\n",
       "2  2015-01-01  43.55339   -5.90822\n",
       "3  2015-01-01  43.55778   -5.90322\n",
       "4  2015-01-01  42.16393   -6.92449\n",
       "5  2015-01-01  42.16404   -6.93157\n",
       "6  2015-01-01  43.27151   -2.95205\n",
       "7  2015-01-01  43.40971   -3.83971\n",
       "8  2015-01-01  43.52459   -5.72987\n",
       "9  2015-01-01  40.37864   -4.21053"
      ]
     },
     "execution_count": 162,
     "metadata": {},
     "output_type": "execute_result"
    }
   ],
   "source": [
    "dfIncendios = pd.read_csv('./datosIncendios.csv')\n",
    "dfIncendios.head(10)"
   ]
  },
  {
   "cell_type": "code",
   "execution_count": 163,
   "metadata": {},
   "outputs": [],
   "source": [
    "provincias=dfIncendios.head(15).apply(lambda x : getData(x.latitude, x.longitude), axis=1)"
   ]
  },
  {
   "cell_type": "code",
   "execution_count": 164,
   "metadata": {},
   "outputs": [
    {
     "data": {
      "text/plain": [
       "0               Asturias\n",
       "1               Asturias\n",
       "2               Asturias\n",
       "3               Asturias\n",
       "4                Ourense\n",
       "5                Ourense\n",
       "6                 Biscay\n",
       "7              Cantabria\n",
       "8               Asturias\n",
       "9                 Madrid\n",
       "10               Cáceres\n",
       "11                Cuenca\n",
       "12               Caceres\n",
       "13    Alacant / Alicante\n",
       "14                Madrid\n",
       "dtype: object"
      ]
     },
     "execution_count": 164,
     "metadata": {},
     "output_type": "execute_result"
    }
   ],
   "source": [
    "provincias"
   ]
  },
  {
   "cell_type": "code",
   "execution_count": 165,
   "metadata": {},
   "outputs": [
    {
     "data": {
      "text/plain": [
       "'Asturias'"
      ]
     },
     "execution_count": 165,
     "metadata": {},
     "output_type": "execute_result"
    }
   ],
   "source": [
    "getData(43.52473, -5.73595)"
   ]
  },
  {
   "cell_type": "code",
   "execution_count": null,
   "metadata": {},
   "outputs": [],
   "source": []
  }
 ],
 "metadata": {
  "kernelspec": {
   "display_name": "Python 3",
   "language": "python",
   "name": "python3"
  },
  "language_info": {
   "codemirror_mode": {
    "name": "ipython",
    "version": 3
   },
   "file_extension": ".py",
   "mimetype": "text/x-python",
   "name": "python",
   "nbconvert_exporter": "python",
   "pygments_lexer": "ipython3",
   "version": "3.6.5"
  }
 },
 "nbformat": 4,
 "nbformat_minor": 2
}
