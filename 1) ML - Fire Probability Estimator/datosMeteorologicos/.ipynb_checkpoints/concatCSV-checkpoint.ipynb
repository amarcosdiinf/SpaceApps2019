{
 "cells": [
  {
   "cell_type": "code",
   "execution_count": 44,
   "metadata": {},
   "outputs": [],
   "source": [
    "import csv\n",
    "import pandas as pd\n",
    "import os\n",
    "import sys"
   ]
  },
  {
   "cell_type": "code",
   "execution_count": 45,
   "metadata": {},
   "outputs": [],
   "source": [
    "path = '.'\n",
    "\n",
    "files=[]\n",
    "# r=root, d=directories, f = files\n",
    "for r, d, f in os.walk(path):\n",
    "    for file in f:\n",
    "        if '.csv' in file:\n",
    "            files.append(os.path.join(r, file))"
   ]
  },
  {
   "cell_type": "code",
   "execution_count": 46,
   "metadata": {},
   "outputs": [
    {
     "data": {
      "text/plain": [
       "['./datos_2018.csv',\n",
       " './datos_2019.csv',\n",
       " './datosMeteo.csv',\n",
       " './datos_2017.csv',\n",
       " './datos_2016.csv',\n",
       " './datos_2015.csv']"
      ]
     },
     "execution_count": 46,
     "metadata": {},
     "output_type": "execute_result"
    }
   ],
   "source": [
    "files"
   ]
  },
  {
   "cell_type": "code",
   "execution_count": 47,
   "metadata": {},
   "outputs": [],
   "source": [
    "headers=[\n",
    "    \"fecha\", \"indicativo\", \"nombre\", \"provincia\", \"altitud\", \n",
    "    \"tmed\", \"prec\", \"tmin\", \"htmin\", \"tmax\", \"htmax\", \"dir\", \n",
    "    \"velmedia\", \"racha\", \"horaracha\", \"sol\", \"presmax\", \"horapresmax\",\n",
    "    \"presmin\", \"horapresmin\"\n",
    "]"
   ]
  },
  {
   "cell_type": "code",
   "execution_count": 55,
   "metadata": {},
   "outputs": [],
   "source": [
    "datos2015csv = pd.read_csv(\"datos2015.csv\", sep=\":\")\n",
    "datos2016csv = pd.read_csv(\"datos2016.csv\", sep=\":\")\n",
    "datos2017csv = pd.read_csv(\"datos2017.csv\", sep=\":\")\n",
    "datos2018csv = pd.read_csv(\"datos2018.csv\", sep=\":\")\n",
    "datos2019csv = pd.read_csv(\"datos2019.csv\", sep=\":\")"
   ]
  },
  {
   "cell_type": "code",
   "execution_count": 56,
   "metadata": {},
   "outputs": [
    {
     "data": {
      "text/html": [
       "<div>\n",
       "<style scoped>\n",
       "    .dataframe tbody tr th:only-of-type {\n",
       "        vertical-align: middle;\n",
       "    }\n",
       "\n",
       "    .dataframe tbody tr th {\n",
       "        vertical-align: top;\n",
       "    }\n",
       "\n",
       "    .dataframe thead th {\n",
       "        text-align: right;\n",
       "    }\n",
       "</style>\n",
       "<table border=\"1\" class=\"dataframe\">\n",
       "  <thead>\n",
       "    <tr style=\"text-align: right;\">\n",
       "      <th></th>\n",
       "      <th>\"fecha\":\"indicativo\":\"nombre\":\"provincia\":\"altitud\":\"tmed\":\"prec\":\"tmin\":\"htmin\":\"tmax\":\"htmax\":\"dir\":\"velmedia\":\"racha\":\"horaracha\":\"sol\":\"presmax\":\"horapresmax\":\"presmin\":\"horapresmin\"</th>\n",
       "    </tr>\n",
       "  </thead>\n",
       "  <tbody>\n",
       "    <tr>\n",
       "      <th>0</th>\n",
       "      <td>2018-01-01:\"4358X\":\"DON BENITO\":\"BADAJOZ\":\"273...</td>\n",
       "    </tr>\n",
       "    <tr>\n",
       "      <th>1</th>\n",
       "      <td>2018-01-01:\"4220X\":\"PUEBLA DE DON RODRIGO\":\"CI...</td>\n",
       "    </tr>\n",
       "  </tbody>\n",
       "</table>\n",
       "</div>"
      ],
      "text/plain": [
       "  \"fecha\":\"indicativo\":\"nombre\":\"provincia\":\"altitud\":\"tmed\":\"prec\":\"tmin\":\"htmin\":\"tmax\":\"htmax\":\"dir\":\"velmedia\":\"racha\":\"horaracha\":\"sol\":\"presmax\":\"horapresmax\":\"presmin\":\"horapresmin\"\n",
       "0  2018-01-01:\"4358X\":\"DON BENITO\":\"BADAJOZ\":\"273...                                                                                                                                        \n",
       "1  2018-01-01:\"4220X\":\"PUEBLA DE DON RODRIGO\":\"CI...                                                                                                                                        "
      ]
     },
     "execution_count": 56,
     "metadata": {},
     "output_type": "execute_result"
    }
   ],
   "source": [
    "datos2018csv.head(2)"
   ]
  },
  {
   "cell_type": "code",
   "execution_count": 50,
   "metadata": {},
   "outputs": [],
   "source": [
    "combined_csv = pd.concat([datos2015csv, datos2016csv, datos2017csv, datos2018csv, datos2019csv], axis=1)\n",
    "#export to csv\n"
   ]
  },
  {
   "cell_type": "code",
   "execution_count": 51,
   "metadata": {},
   "outputs": [
    {
     "data": {
      "text/html": [
       "<div>\n",
       "<style scoped>\n",
       "    .dataframe tbody tr th:only-of-type {\n",
       "        vertical-align: middle;\n",
       "    }\n",
       "\n",
       "    .dataframe tbody tr th {\n",
       "        vertical-align: top;\n",
       "    }\n",
       "\n",
       "    .dataframe thead th {\n",
       "        text-align: right;\n",
       "    }\n",
       "</style>\n",
       "<table border=\"1\" class=\"dataframe\">\n",
       "  <thead>\n",
       "    <tr style=\"text-align: right;\">\n",
       "      <th></th>\n",
       "      <th>2016-01-01</th>\n",
       "      <th>4358X</th>\n",
       "      <th>DON BENITO</th>\n",
       "      <th>BADAJOZ</th>\n",
       "      <th>273</th>\n",
       "      <th>14,1</th>\n",
       "      <th>9,2</th>\n",
       "      <th>8,5</th>\n",
       "      <th>03:20</th>\n",
       "      <th>19,7</th>\n",
       "      <th>...</th>\n",
       "      <th>15:50</th>\n",
       "      <th>15</th>\n",
       "      <th>0,8</th>\n",
       "      <th>3,3</th>\n",
       "      <th>21:00</th>\n",
       "      <th>8,4</th>\n",
       "      <th>1000,3</th>\n",
       "      <th>10</th>\n",
       "      <th>997,8</th>\n",
       "      <th>01</th>\n",
       "    </tr>\n",
       "  </thead>\n",
       "  <tbody>\n",
       "    <tr>\n",
       "      <th>0</th>\n",
       "      <td>2016-01-01</td>\n",
       "      <td>C447A</td>\n",
       "      <td>TENERIFE NORTE AEROPUERTO</td>\n",
       "      <td>STA. CRUZ DE TENERIFE</td>\n",
       "      <td>632.0</td>\n",
       "      <td>15,2</td>\n",
       "      <td>0,0</td>\n",
       "      <td>10,8</td>\n",
       "      <td>00:43</td>\n",
       "      <td>19,7</td>\n",
       "      <td>...</td>\n",
       "      <td>NaN</td>\n",
       "      <td>NaN</td>\n",
       "      <td>NaN</td>\n",
       "      <td>NaN</td>\n",
       "      <td>NaN</td>\n",
       "      <td>NaN</td>\n",
       "      <td>NaN</td>\n",
       "      <td>NaN</td>\n",
       "      <td>NaN</td>\n",
       "      <td>NaN</td>\n",
       "    </tr>\n",
       "    <tr>\n",
       "      <th>1</th>\n",
       "      <td>2016-01-01</td>\n",
       "      <td>9698U</td>\n",
       "      <td>TALARN</td>\n",
       "      <td>LLEIDA</td>\n",
       "      <td>807.0</td>\n",
       "      <td>5,7</td>\n",
       "      <td>1,4</td>\n",
       "      <td>3,2</td>\n",
       "      <td>05:00</td>\n",
       "      <td>8,2</td>\n",
       "      <td>...</td>\n",
       "      <td>15:30</td>\n",
       "      <td>16</td>\n",
       "      <td>3,9</td>\n",
       "      <td>11,4</td>\n",
       "      <td>10:11</td>\n",
       "      <td>5,5</td>\n",
       "      <td>956,5</td>\n",
       "      <td>Varias</td>\n",
       "      <td>951,2</td>\n",
       "      <td>01</td>\n",
       "    </tr>\n",
       "    <tr>\n",
       "      <th>2</th>\n",
       "      <td>2016-01-01</td>\n",
       "      <td>4410X</td>\n",
       "      <td>MRIDA</td>\n",
       "      <td>BADAJOZ</td>\n",
       "      <td>228.0</td>\n",
       "      <td>14,0</td>\n",
       "      <td>20,2</td>\n",
       "      <td>7,9</td>\n",
       "      <td>01:50</td>\n",
       "      <td>20,0</td>\n",
       "      <td>...</td>\n",
       "      <td>15:10</td>\n",
       "      <td>15</td>\n",
       "      <td>0,8</td>\n",
       "      <td>7,2</td>\n",
       "      <td>00:20</td>\n",
       "      <td>982,8</td>\n",
       "      <td>10</td>\n",
       "      <td>980,5</td>\n",
       "      <td>05</td>\n",
       "      <td>NaN</td>\n",
       "    </tr>\n",
       "    <tr>\n",
       "      <th>3</th>\n",
       "      <td>2016-01-01</td>\n",
       "      <td>1331A</td>\n",
       "      <td>CASTROPOL</td>\n",
       "      <td>ASTURIAS</td>\n",
       "      <td>40.0</td>\n",
       "      <td>13,8</td>\n",
       "      <td>4,6</td>\n",
       "      <td>10,1</td>\n",
       "      <td>02:00</td>\n",
       "      <td>17,6</td>\n",
       "      <td>...</td>\n",
       "      <td>14:40</td>\n",
       "      <td>19</td>\n",
       "      <td>0,8</td>\n",
       "      <td>2,8</td>\n",
       "      <td>00:50</td>\n",
       "      <td>7,7</td>\n",
       "      <td>935,8</td>\n",
       "      <td>09</td>\n",
       "      <td>933,5</td>\n",
       "      <td>24</td>\n",
       "    </tr>\n",
       "    <tr>\n",
       "      <th>4</th>\n",
       "      <td>2016-01-01</td>\n",
       "      <td>1690A</td>\n",
       "      <td>OURENSE</td>\n",
       "      <td>OURENSE</td>\n",
       "      <td>143.0</td>\n",
       "      <td>11,7</td>\n",
       "      <td>7,4</td>\n",
       "      <td>8,1</td>\n",
       "      <td>00:00</td>\n",
       "      <td>15,3</td>\n",
       "      <td>...</td>\n",
       "      <td>15:40</td>\n",
       "      <td>09</td>\n",
       "      <td>0,6</td>\n",
       "      <td>4,2</td>\n",
       "      <td>10:00</td>\n",
       "      <td>NaN</td>\n",
       "      <td>NaN</td>\n",
       "      <td>NaN</td>\n",
       "      <td>NaN</td>\n",
       "      <td>NaN</td>\n",
       "    </tr>\n",
       "  </tbody>\n",
       "</table>\n",
       "<p>5 rows × 180 columns</p>\n",
       "</div>"
      ],
      "text/plain": [
       "   2016-01-01  4358X                 DON BENITO                BADAJOZ    273  \\\n",
       "0  2016-01-01  C447A  TENERIFE NORTE AEROPUERTO  STA. CRUZ DE TENERIFE  632.0   \n",
       "1  2016-01-01  9698U                     TALARN                 LLEIDA  807.0   \n",
       "2  2016-01-01  4410X                      MRIDA                BADAJOZ  228.0   \n",
       "3  2016-01-01  1331A                  CASTROPOL               ASTURIAS   40.0   \n",
       "4  2016-01-01  1690A                    OURENSE                OURENSE  143.0   \n",
       "\n",
       "   14,1   9,2   8,5  03:20  19,7 ...   15:50   15  0,8   3,3  21:00    8,4  \\\n",
       "0  15,2   0,0  10,8  00:43  19,7 ...     NaN  NaN  NaN   NaN    NaN    NaN   \n",
       "1   5,7   1,4   3,2  05:00   8,2 ...   15:30   16  3,9  11,4  10:11    5,5   \n",
       "2  14,0  20,2   7,9  01:50  20,0 ...   15:10   15  0,8   7,2  00:20  982,8   \n",
       "3  13,8   4,6  10,1  02:00  17,6 ...   14:40   19  0,8   2,8  00:50    7,7   \n",
       "4  11,7   7,4   8,1  00:00  15,3 ...   15:40   09  0,6   4,2  10:00    NaN   \n",
       "\n",
       "  1000,3      10  997,8   01  \n",
       "0    NaN     NaN    NaN  NaN  \n",
       "1  956,5  Varias  951,2   01  \n",
       "2     10   980,5     05  NaN  \n",
       "3  935,8      09  933,5   24  \n",
       "4    NaN     NaN    NaN  NaN  \n",
       "\n",
       "[5 rows x 180 columns]"
      ]
     },
     "execution_count": 51,
     "metadata": {},
     "output_type": "execute_result"
    }
   ],
   "source": [
    "combined_csv.head()"
   ]
  },
  {
   "cell_type": "code",
   "execution_count": 43,
   "metadata": {},
   "outputs": [],
   "source": [
    "combined_csv.to_csv( \"datosMeteo.csv\", index=False, encoding='utf-8', sep=\":\")"
   ]
  },
  {
   "cell_type": "code",
   "execution_count": null,
   "metadata": {},
   "outputs": [],
   "source": []
  }
 ],
 "metadata": {
  "kernelspec": {
   "display_name": "Python 3",
   "language": "python",
   "name": "python3"
  },
  "language_info": {
   "codemirror_mode": {
    "name": "ipython",
    "version": 3
   },
   "file_extension": ".py",
   "mimetype": "text/x-python",
   "name": "python",
   "nbconvert_exporter": "python",
   "pygments_lexer": "ipython3",
   "version": "3.6.5"
  }
 },
 "nbformat": 4,
 "nbformat_minor": 2
}
